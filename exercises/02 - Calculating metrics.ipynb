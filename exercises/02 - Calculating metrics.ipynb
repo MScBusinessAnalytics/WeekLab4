{
 "cells": [
  {
   "cell_type": "markdown",
   "id": "86df0b6e",
   "metadata": {},
   "source": [
    "# Attendance\n",
    "Please mark your attendance [here](https://forms.office.com/Pages/ResponsePage.aspx?id=MH_ksn3NTkql2rGM8aQVG-ma-csIdQlCgCfjKacBoUlUQTY5VllKWUcwSE5KS0E5RzlBTVdZTVZYVC4u)."
   ]
  },
  {
   "cell_type": "markdown",
   "id": "17c9ba55",
   "metadata": {},
   "source": [
    "# 01 - Estimating metrics\n",
    "Often, the data we are provided does not (yet) contain the metrics we need. In these first exercises, we are going to load in some data (similar to the data we used before) and estimate some useful metrics."
   ]
  },
  {
   "cell_type": "markdown",
   "id": "145f22c9",
   "metadata": {},
   "source": [
    "## Loading and understanding data\n",
    "Let's import `pandas`, load in our dataset, and `print` the columns in the dataset.\n",
    "\n",
    "(Note: the dataset is named `wk3_listings_sample.csv` becuase it is slightly different from before)"
   ]
  },
  {
   "cell_type": "code",
   "execution_count": null,
   "id": "71ef076d",
   "metadata": {},
   "outputs": [],
   "source": [
    "import pandas as pd\n",
    "df_listings = pd.read_csv('../data/wk3_listings_sample.csv')\n",
    "print(df_listings.columns)"
   ]
  },
  {
   "cell_type": "markdown",
   "id": "03b4bb4a",
   "metadata": {},
   "source": [
    "As you can see, there are lots of columns in this dataset. If you would like to understand the columns better, then you can look at the [data dictionary](https://docs.google.com/spreadsheets/d/1iWCNJcSutYqpULSQHlNyGInUvHg2BoUGoNRIGa6Szc4/edit#gid=982310896) of the dataset."
   ]
  },
  {
   "cell_type": "markdown",
   "id": "372caa60",
   "metadata": {},
   "source": [
    "### Exercise-01: Understanding columns\n",
    "**Questions** What do the values in the `minimum_maximum_nights` column represent?"
   ]
  },
  {
   "cell_type": "markdown",
   "id": "33f90f11",
   "metadata": {},
   "source": [
    "## Price per person\n",
    "You are asked to estimate the \"price per person\" for each listing in the dataset. To do this, you first need to format the `price` column to contain  values you can perform calculations on (like we did last week). Let's do this below. Create a `price_$` column with the price of the listing in \\$'s in `float` format, and show the `head` of the `price` and `price_$` columns to check it worked OK."
   ]
  },
  {
   "cell_type": "code",
   "execution_count": null,
   "id": "df5bdd2e",
   "metadata": {},
   "outputs": [],
   "source": [
    "# (SOLUTION)\n",
    "def format_price(price):\n",
    "    return(float(price.replace('$','').replace(',','')))\n",
    "\n",
    "df_listings['price_$'] = df_listings['price'].apply(format_price)\n",
    "df_listings[['price','price_$']].head()"
   ]
  },
  {
   "cell_type": "markdown",
   "id": "239fe138",
   "metadata": {},
   "source": [
    "### Exercise-02: Estimate price-per-person\n",
    "With the price values in a `float` format, we can use the `/` (division) operator to divide the values in the `price_$` column by the values in the `accommodates` column, and create a new column named `price_$/person`. Run the code shown below to do this and show the `head` of the relevant columns to check it's working OK."
   ]
  },
  {
   "cell_type": "code",
   "execution_count": null,
   "id": "7b7c1f58",
   "metadata": {},
   "outputs": [],
   "source": [
    "df_listings['price_$/person'] = df_listings['price_$'] / df_listings['accommodates']\n",
    "df_listings[['price_$','accommodates','price_$/person']].head()"
   ]
  },
  {
   "cell_type": "markdown",
   "id": "033b4413",
   "metadata": {},
   "source": [
    "We can also sort the rows of `df_listings` by the values in column `price_$/person` to identify which listing has the highest `price_$/person` of all the listings in the dataset. Run the code below to show the neighbourhood of the listing with the highest `price_$/person` in the dataset."
   ]
  },
  {
   "cell_type": "code",
   "execution_count": null,
   "id": "3dfc2560",
   "metadata": {},
   "outputs": [],
   "source": [
    "df_listings.sort_values(by='price_$/person', ascending=False).head(1)['neighbourhood_cleansed']"
   ]
  },
  {
   "cell_type": "markdown",
   "id": "ce5ef9ab",
   "metadata": {},
   "source": [
    "**Question:** What neighbourhood is it in?"
   ]
  },
  {
   "cell_type": "markdown",
   "id": "9f62ff6b",
   "metadata": {},
   "source": [
    "Look again in the [data dictionary](https://docs.google.com/spreadsheets/d/1iWCNJcSutYqpULSQHlNyGInUvHg2BoUGoNRIGa6Szc4/edit#gid=982310896) to understand what values in the `accommodates` column represent. \n",
    "\n",
    "**Question:** Do you think using `accomodates` is a good way to estimate the price per person for each listing? If not, why not?\n",
    "\n",
    "**Question:** Why might someone want to estimate the price per person for each listing?"
   ]
  },
  {
   "cell_type": "markdown",
   "id": "e6e51087",
   "metadata": {},
   "source": [
    "## Forecasting income\n",
    "You are asked to forecast how much money (in \\$'s) each listing is likely to receive over the next 30 days. To do this, you decide to use the `availability_30` column to calculate how many nights of the next available 30 nights are booked and then multiple this number by the `price_$` using the `*` (multiplication) operator. \n",
    "\n",
    "### Exercise-03: Forecast 30-day income\n",
    "Complete the code below to estimate the income for each listing over the next 30 days. Look at Exercise-02, to start."
   ]
  },
  {
   "cell_type": "code",
   "execution_count": null,
   "id": "e26069f4",
   "metadata": {},
   "outputs": [],
   "source": [
    "df_listings['estimated_income_30'] = # (SOLUTION)\n",
    "df_listings[['price_$','availability_30', 'estimated_income_30']].head()"
   ]
  },
  {
   "cell_type": "markdown",
   "id": "e9f699c8",
   "metadata": {},
   "source": [
    "In the code block below, sort the values of `df_listings` by the values in `esimated_income_30` to identify the listing with highest forecasted income for the next 30 days."
   ]
  },
  {
   "cell_type": "code",
   "execution_count": null,
   "id": "1081275a",
   "metadata": {},
   "outputs": [],
   "source": [
    "# (SOLUTION)\n"
   ]
  },
  {
   "cell_type": "markdown",
   "id": "3a9c8ff0",
   "metadata": {},
   "source": [
    "**Question:** What's the value of `neighbourhood_cleansed` for this listing?\n",
    "\n",
    "**Question:** Why might someone want to forecast the next 30 days income for each listing?"
   ]
  },
  {
   "cell_type": "markdown",
   "id": "5ecc2ced",
   "metadata": {},
   "source": [
    "## Further work\n",
    "If you want to explore the data further, please do, and think about what other metrics you might be able to estimate from the data and how they might be used."
   ]
  }
 ],
 "metadata": {
  "kernelspec": {
   "display_name": "Python 3 (ipykernel)",
   "language": "python",
   "name": "python3"
  },
  "language_info": {
   "codemirror_mode": {
    "name": "ipython",
    "version": 3
   },
   "file_extension": ".py",
   "mimetype": "text/x-python",
   "name": "python",
   "nbconvert_exporter": "python",
   "pygments_lexer": "ipython3",
   "version": "3.7.9"
  }
 },
 "nbformat": 4,
 "nbformat_minor": 5
}
