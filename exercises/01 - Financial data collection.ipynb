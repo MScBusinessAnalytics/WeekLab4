{
 "cells": [
  {
   "cell_type": "markdown",
   "id": "ee9ed2ee",
   "metadata": {},
   "source": [
    "# Week 4 - Collecting data from Yahoo - use of yfinance\n",
    "\n",
    "## What is API?\n",
    "\n",
    "API stands for application programming interface, which is a set of definitions and protocols for building and integrating application software. Most APIs, require authorization before the service provider will give you an assess token that allowing you to call the API and pull the data. We will explore this in our next level of the exercise for fetching data from Twitter. In this basic level of the exercise, we will use a python library that integrating the authorization process which is very friendly to the beginners. \n",
    "\n",
    "## About yfinance\n",
    "\n",
    "Please visit the documentation of yfinance via this [link](https://pypi.org/project/yfinance/) and you should read the legal disclaimer before using the library. yfinance is a Python library that gives public an easy access to financial data available on [Yahoo Finance](https://uk.finance.yahoo.com/). One of the big advantages of this library is that it returns the data as Pandas DataFrames, which we introduced in the last week tutorial. In most of the cases we deal with APIs to pull the data, transforming data to an organised format is the one of the most difficult parts. The library of yfinance has helped us to organise it properly which is a plus for the beginner.\n",
    "\n",
    "## The learning outcomes of this exercise\n",
    "\n",
    "1. Using the public available library in Python;\n",
    "2. Understanding the use of documentation of library to solve problem;\n",
    "3. Collecting data and organise them properly in Python DataFrame;\n",
    "4. Using the descriptive techniques to analyse the company's profiles.\n",
    "\n",
    "<img src=\"../Image/stocks-vs-market-wo.jpg\" width=400 height=400 />"
   ]
  },
  {
   "cell_type": "code",
   "execution_count": null,
   "id": "b1114e4b",
   "metadata": {},
   "outputs": [],
   "source": [
    "#importing the required library in this exercise\n",
    "\n",
    "import pandas as pd\n",
    "import yfinance as yf"
   ]
  },
  {
   "cell_type": "markdown",
   "id": "9b8cf1b6",
   "metadata": {},
   "source": [
    "### 1. Retriving data based on company's Stock Ticker\n",
    "\n",
    "Simply put, the Stock Ticker is the comapany's ID number enable the analyst to retrive data of the company. For lists of the Stock Ticker, you can visit this [link](https://www.nyse.com/listings_directory/stock) for the NYSE market and this [link](https://www.nasdaq.com/market-activity/stocks/screener) for the NASDQ. The `Ticker` module, which allows you to access company's data through their Stock Ticker. \n",
    "\n",
    "With the library name `yf` we defined, we can use the module through typing `yf.Ticker(\"Insert The Ticker Symbol Here\")`. I took Ford Morto as an example below:"
   ]
  },
  {
   "cell_type": "code",
   "execution_count": null,
   "id": "fab41fbd",
   "metadata": {},
   "outputs": [],
   "source": [
    "FORD = yf.Ticker(\"F\")\n",
    "\n",
    "#utilising the .info function to retrive the background information of the company\n",
    "FORD.info"
   ]
  },
  {
   "cell_type": "markdown",
   "id": "11881d8f",
   "metadata": {},
   "source": [
    "### 2. Defining our observation period\n",
    "\n",
    "In the sampling process, we always specify a time frame to make our data collection more efficiently. The function of `.history` will help us to specify the details and we can check the detailed statment of the following parameters:\n",
    "\n",
    "        period : str\n",
    "            Valid periods: 1d,5d,1mo,3mo,6mo,1y,2y,5y,10y,ytd,max\n",
    "            Either Use period parameter or use start and end\n",
    "        interval : str\n",
    "            Valid intervals: 1m,2m,5m,15m,30m,60m,90m,1h,1d,5d,1wk,1mo,3mo\n",
    "            Intraday data cannot extend last 60 days\n",
    "        start: str\n",
    "            Download start date string (YYYY-MM-DD) or _datetime.\n",
    "            Default is 1900-01-01\n",
    "        end: str\n",
    "            Download end date string (YYYY-MM-DD) or _datetime.\n",
    "            Default is now\n",
    "        prepost : bool\n",
    "            Include Pre and Post market data in results?\n",
    "            Default is False\n",
    "        auto_adjust: bool\n",
    "            Adjust all OHLC automatically? Default is True\n",
    "        back_adjust: bool\n",
    "            Back-adjusted data to mimic true historical prices\n",
    "        proxy: str\n",
    "            Optional. Proxy server URL scheme. Default is None\n",
    "        rounding: bool\n",
    "            Round values to 2 decimal places?\n",
    "            Optional. Default is False = precision suggested by Yahoo!\n",
    "        tz: str\n",
    "            Optional timezone locale for dates.\n",
    "            (default data is returned as non-localized dates)\n",
    "        timeout: None or float\n",
    "            If not None stops waiting for a response after given number of\n",
    "            seconds. (Can also be a fraction of a second e.g. 0.01)\n",
    "            Default is None.\n",
    "            \n",
    "**We use default setting for nearly all the peremeters here, but we'd like to change the period or dates and the interval.**"
   ]
  },
  {
   "cell_type": "code",
   "execution_count": null,
   "id": "d6622c7a",
   "metadata": {},
   "outputs": [],
   "source": [
    "#Downlaoding the most recent three months' daily stock market data\n",
    "\n",
    "FORD = yf.Ticker('F')\n",
    "FORD_Three_Months = FORD.history(period = '3mo', interval = '1d')\n",
    "FORD_Three_Months"
   ]
  },
  {
   "cell_type": "markdown",
   "id": "2bf8a9f5",
   "metadata": {},
   "source": [
    "### 2.Q. Exercise of downloading stock price data and visualising it\n",
    "\n",
    "**<span style=\"color:green\">Now it's your turn to practice: Can you download the hourly stock price reaction (in one week) of Apple releasing iPhone 14/14 pro?</span>**\n",
    "\n",
    "Hint: You will need to check the releasing date of iphone model and adjust the peremeter in  `history`. Please use the unvealing date of the models not the launching date for sales. You can use the library of `matplotlib`[Example of the use of matplotlib](https://matplotlib.org/stable/gallery/index.html) for the visualisation."
   ]
  },
  {
   "cell_type": "code",
   "execution_count": null,
   "id": "f4329639",
   "metadata": {},
   "outputs": [],
   "source": [
    "#Please show your code of downloading the data below\n",
    "\n"
   ]
  },
  {
   "cell_type": "code",
   "execution_count": null,
   "id": "4e7301bd",
   "metadata": {},
   "outputs": [],
   "source": [
    "#Please complete the code to visualise the stock price reaction\n",
    "\n",
    "import matplotlib.pyplot as plt\n"
   ]
  },
  {
   "cell_type": "markdown",
   "id": "9507c673",
   "metadata": {},
   "source": [
    "### 3. Extracting Fundamental Data\n",
    "\n",
    "To conduct industrial research or academic study, the fundamental data (normally reported in annual report/earning reports) such as firm's revenue, cost of good sold, and R&D investement are heavily used.\n",
    "\n",
    "The financial data can be extracted through the method of `.financials`."
   ]
  },
  {
   "cell_type": "code",
   "execution_count": null,
   "id": "a17c347d",
   "metadata": {},
   "outputs": [],
   "source": [
    "FORD = yf.Ticker('F')\n",
    "FORD_financials = FORD.financials\n",
    "FORD_financials"
   ]
  },
  {
   "cell_type": "markdown",
   "id": "e3b65ad7",
   "metadata": {},
   "source": [
    "### 3.Q. Exercise of downloading financial data for a single company\n",
    "\n",
    "**<span style=\"color:green\">Now it's your turn to practice: Can you download the balancesheet and cash flow data of FORD and integrated all three Dataframes including the Financials in last example?</span>**\n",
    "\n",
    "Hint: To extract the data from balancesheet and cashflow, you will use the methods of `.balancesheet` and `.cashflow`. To merge data frame, you will use `.concat` in pandas. `.to_csv` is the method for exporting dataframe to csv file."
   ]
  },
  {
   "cell_type": "code",
   "execution_count": null,
   "id": "a2cdea24",
   "metadata": {},
   "outputs": [],
   "source": [
    "#Please show your code of integrating the financials, balancesheet, and cashflow below:\n",
    "\n"
   ]
  },
  {
   "cell_type": "markdown",
   "id": "6b78efc5",
   "metadata": {},
   "source": [
    "### 4. Dealing with multiple companies in data collection\n",
    "\n",
    "To have a comprehensive picture of the industry/competitors, we always want to explore the patterns behind multiple companies. In the below example, we will create a list of company for the data collection."
   ]
  },
  {
   "cell_type": "code",
   "execution_count": null,
   "id": "64215d17",
   "metadata": {},
   "outputs": [],
   "source": [
    "tickerStrings = ['AMZN','NFLX']\n",
    "df_list = list() # creating an empty list\n",
    "for ticker in tickerStrings:\n",
    "    data = yf.download(ticker, group_by=\"Ticker\", period='2y', interval='1d')\n",
    "    data['ticker'] = ticker  # add this column because the dataframe doesn't contain a column with the ticker\n",
    "    df_list.append(data) # fitting the collected data to the list\n",
    "\n",
    "# combine all dataframes into a single dataframe\n",
    "df = pd.concat(df_list)\n",
    "\n",
    "# save to csv\n",
    "df.to_csv('demonstration.csv')\n",
    "\n",
    "df.head()"
   ]
  },
  {
   "cell_type": "code",
   "execution_count": null,
   "id": "549049ea",
   "metadata": {},
   "outputs": [],
   "source": [
    "# restructing the data as a pivot table for visualisation\n",
    "\n",
    "df.pivot_table(index='Date',columns='ticker',values='Open').plot() "
   ]
  },
  {
   "cell_type": "markdown",
   "id": "9c69c4c2",
   "metadata": {},
   "source": [
    "### 4.Q. Exercise of downloading data from multiple companies\n",
    "\n",
    "**<span style=\"color:green\">Now it's your turn to practice: Can you download the daily stock price data of FORD, TOYOTA, and TESLA in recent 5 years and visualising them?</span>**"
   ]
  },
  {
   "cell_type": "code",
   "execution_count": null,
   "id": "3e3c6f0a",
   "metadata": {},
   "outputs": [],
   "source": [
    "# Please show your code below:\n",
    "\n"
   ]
  }
 ],
 "metadata": {
  "kernelspec": {
   "display_name": "Python 3 (ipykernel)",
   "language": "python",
   "name": "python3"
  },
  "language_info": {
   "codemirror_mode": {
    "name": "ipython",
    "version": 3
   },
   "file_extension": ".py",
   "mimetype": "text/x-python",
   "name": "python",
   "nbconvert_exporter": "python",
   "pygments_lexer": "ipython3",
   "version": "3.9.7"
  }
 },
 "nbformat": 4,
 "nbformat_minor": 5
}
