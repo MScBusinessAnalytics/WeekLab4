{
 "cells": [
  {
   "cell_type": "markdown",
   "id": "17c9ba55",
   "metadata": {},
   "source": [
    "# 01 - Estimating metrics\n",
    "Often, the data we are provided does not (yet) contain the metrics we need. In these first exercises, we are going to load in some data (similar to the data we used before) and estimate some useful metrics."
   ]
  },
  {
   "cell_type": "markdown",
   "id": "145f22c9",
   "metadata": {},
   "source": [
    "## Loading and understanding data\n",
    "Let's import `pandas`, load in our dataset, and `print` the columns in the dataset.\n",
    "\n",
    "(Note: the dataset is named `wk3_listings_sample.csv` becuase it is slightly different from before)"
   ]
  },
  {
   "cell_type": "code",
   "execution_count": 2,
   "id": "71ef076d",
   "metadata": {},
   "outputs": [
    {
     "name": "stdout",
     "output_type": "stream",
     "text": [
      "Index(['id', 'listing_url', 'scrape_id', 'last_scraped', 'name', 'description',\n",
      "       'neighborhood_overview', 'picture_url', 'host_id', 'host_url',\n",
      "       'host_name', 'host_since', 'host_location', 'host_about',\n",
      "       'host_response_time', 'host_response_rate', 'host_acceptance_rate',\n",
      "       'host_is_superhost', 'host_thumbnail_url', 'host_picture_url',\n",
      "       'host_neighbourhood', 'host_listings_count',\n",
      "       'host_total_listings_count', 'host_verifications',\n",
      "       'host_has_profile_pic', 'host_identity_verified', 'neighbourhood',\n",
      "       'neighbourhood_cleansed', 'neighbourhood_group_cleansed', 'latitude',\n",
      "       'longitude', 'property_type', 'room_type', 'accommodates', 'bathrooms',\n",
      "       'bathrooms_text', 'bedrooms', 'beds', 'amenities', 'price',\n",
      "       'minimum_nights', 'maximum_nights', 'minimum_minimum_nights',\n",
      "       'maximum_minimum_nights', 'minimum_maximum_nights',\n",
      "       'maximum_maximum_nights', 'minimum_nights_avg_ntm',\n",
      "       'maximum_nights_avg_ntm', 'calendar_updated', 'has_availability',\n",
      "       'availability_30', 'availability_60', 'availability_90',\n",
      "       'availability_365', 'calendar_last_scraped', 'number_of_reviews',\n",
      "       'number_of_reviews_ltm', 'number_of_reviews_l30d', 'first_review',\n",
      "       'last_review', 'review_scores_rating', 'review_scores_accuracy',\n",
      "       'review_scores_cleanliness', 'review_scores_checkin',\n",
      "       'review_scores_communication', 'review_scores_location',\n",
      "       'review_scores_value', 'license', 'instant_bookable',\n",
      "       'calculated_host_listings_count',\n",
      "       'calculated_host_listings_count_entire_homes',\n",
      "       'calculated_host_listings_count_private_rooms',\n",
      "       'calculated_host_listings_count_shared_rooms', 'reviews_per_month'],\n",
      "      dtype='object')\n"
     ]
    }
   ],
   "source": [
    "import pandas as pd\n",
    "df_listings = pd.read_csv('../data/wk3_listings_sample.csv')\n",
    "print(df_listings.columns)"
   ]
  },
  {
   "cell_type": "markdown",
   "id": "03b4bb4a",
   "metadata": {},
   "source": [
    "As you can see, there are lots of columns in this dataset. If you would like to understand the columns better, then you can look at the [data dictionary](https://docs.google.com/spreadsheets/d/1iWCNJcSutYqpULSQHlNyGInUvHg2BoUGoNRIGa6Szc4/edit#gid=982310896) of the dataset."
   ]
  },
  {
   "cell_type": "markdown",
   "id": "372caa60",
   "metadata": {},
   "source": [
    "### Exercise-01: Understanding columns\n",
    "**Questions** What do the values in the `minimum_maximum_nights` column represent?"
   ]
  },
  {
   "cell_type": "markdown",
   "id": "33f90f11",
   "metadata": {},
   "source": [
    "## Price per person\n",
    "You are asked to estimate the \"price per person\" for each listing in the dataset. To do this, you first need to format the `price` column to contain  values you can perform calculations on (like we did last week). Let's do this below. Create a `price_$` column with the price of the listing in \\$'s in `float` format, and show the `head` of the `price` and `price_$` columns to check it worked OK."
   ]
  },
  {
   "cell_type": "code",
   "execution_count": 2,
   "id": "df5bdd2e",
   "metadata": {},
   "outputs": [
    {
     "data": {
      "text/html": [
       "<div>\n",
       "<style scoped>\n",
       "    .dataframe tbody tr th:only-of-type {\n",
       "        vertical-align: middle;\n",
       "    }\n",
       "\n",
       "    .dataframe tbody tr th {\n",
       "        vertical-align: top;\n",
       "    }\n",
       "\n",
       "    .dataframe thead th {\n",
       "        text-align: right;\n",
       "    }\n",
       "</style>\n",
       "<table border=\"1\" class=\"dataframe\">\n",
       "  <thead>\n",
       "    <tr style=\"text-align: right;\">\n",
       "      <th></th>\n",
       "      <th>price</th>\n",
       "      <th>price_$</th>\n",
       "    </tr>\n",
       "  </thead>\n",
       "  <tbody>\n",
       "    <tr>\n",
       "      <th>0</th>\n",
       "      <td>$128.00</td>\n",
       "      <td>128.0</td>\n",
       "    </tr>\n",
       "    <tr>\n",
       "      <th>1</th>\n",
       "      <td>$70.00</td>\n",
       "      <td>70.0</td>\n",
       "    </tr>\n",
       "    <tr>\n",
       "      <th>2</th>\n",
       "      <td>$39.00</td>\n",
       "      <td>39.0</td>\n",
       "    </tr>\n",
       "    <tr>\n",
       "      <th>3</th>\n",
       "      <td>$85.00</td>\n",
       "      <td>85.0</td>\n",
       "    </tr>\n",
       "    <tr>\n",
       "      <th>4</th>\n",
       "      <td>$40.00</td>\n",
       "      <td>40.0</td>\n",
       "    </tr>\n",
       "  </tbody>\n",
       "</table>\n",
       "</div>"
      ],
      "text/plain": [
       "     price  price_$\n",
       "0  $128.00    128.0\n",
       "1   $70.00     70.0\n",
       "2   $39.00     39.0\n",
       "3   $85.00     85.0\n",
       "4   $40.00     40.0"
      ]
     },
     "execution_count": 2,
     "metadata": {},
     "output_type": "execute_result"
    }
   ],
   "source": [
    "# (SOLUTION)\n",
    "def format_price(price):\n",
    "    return(float(price.replace('$','').replace(',','')))\n",
    "\n",
    "df_listings['price_$'] = df_listings['price'].apply(format_price)\n",
    "df_listings[['price','price_$']].head()"
   ]
  },
  {
   "cell_type": "markdown",
   "id": "239fe138",
   "metadata": {},
   "source": [
    "### Exercise-02: Estimate price-per-person\n",
    "With the price values in a `float` format, we can use the `/` (division) operator to divide the values in the `price_$` column by the values in the `accommodates` column, and create a new column named `price_$/person`. Run the code shown below to do this and show the `head` of the relevant columns to check it's working OK."
   ]
  },
  {
   "cell_type": "code",
   "execution_count": 3,
   "id": "7b7c1f58",
   "metadata": {},
   "outputs": [
    {
     "data": {
      "text/html": [
       "<div>\n",
       "<style scoped>\n",
       "    .dataframe tbody tr th:only-of-type {\n",
       "        vertical-align: middle;\n",
       "    }\n",
       "\n",
       "    .dataframe tbody tr th {\n",
       "        vertical-align: top;\n",
       "    }\n",
       "\n",
       "    .dataframe thead th {\n",
       "        text-align: right;\n",
       "    }\n",
       "</style>\n",
       "<table border=\"1\" class=\"dataframe\">\n",
       "  <thead>\n",
       "    <tr style=\"text-align: right;\">\n",
       "      <th></th>\n",
       "      <th>price_$</th>\n",
       "      <th>accommodates</th>\n",
       "      <th>price_$/person</th>\n",
       "    </tr>\n",
       "  </thead>\n",
       "  <tbody>\n",
       "    <tr>\n",
       "      <th>0</th>\n",
       "      <td>128.0</td>\n",
       "      <td>5</td>\n",
       "      <td>25.600000</td>\n",
       "    </tr>\n",
       "    <tr>\n",
       "      <th>1</th>\n",
       "      <td>70.0</td>\n",
       "      <td>1</td>\n",
       "      <td>70.000000</td>\n",
       "    </tr>\n",
       "    <tr>\n",
       "      <th>2</th>\n",
       "      <td>39.0</td>\n",
       "      <td>2</td>\n",
       "      <td>19.500000</td>\n",
       "    </tr>\n",
       "    <tr>\n",
       "      <th>3</th>\n",
       "      <td>85.0</td>\n",
       "      <td>3</td>\n",
       "      <td>28.333333</td>\n",
       "    </tr>\n",
       "    <tr>\n",
       "      <th>4</th>\n",
       "      <td>40.0</td>\n",
       "      <td>1</td>\n",
       "      <td>40.000000</td>\n",
       "    </tr>\n",
       "  </tbody>\n",
       "</table>\n",
       "</div>"
      ],
      "text/plain": [
       "   price_$  accommodates  price_$/person\n",
       "0    128.0             5       25.600000\n",
       "1     70.0             1       70.000000\n",
       "2     39.0             2       19.500000\n",
       "3     85.0             3       28.333333\n",
       "4     40.0             1       40.000000"
      ]
     },
     "execution_count": 3,
     "metadata": {},
     "output_type": "execute_result"
    }
   ],
   "source": [
    "df_listings['price_$/person'] = df_listings['price_$'] / df_listings['accommodates']\n",
    "df_listings[['price_$','accommodates','price_$/person']].head()"
   ]
  },
  {
   "cell_type": "markdown",
   "id": "033b4413",
   "metadata": {},
   "source": [
    "We can also sort the rows of `df_listings` by the values in column `price_$/person` to identify which listing has the highest `price_$/person` of all the listings in the dataset. Run the code below to show the neighbourhood of the listing with the highest `price_$/person` in the dataset."
   ]
  },
  {
   "cell_type": "code",
   "execution_count": 4,
   "id": "3dfc2560",
   "metadata": {},
   "outputs": [
    {
     "data": {
      "text/plain": [
       "26518    Westminster\n",
       "Name: neighbourhood_cleansed, dtype: object"
      ]
     },
     "execution_count": 4,
     "metadata": {},
     "output_type": "execute_result"
    }
   ],
   "source": [
    "df_listings.sort_values(by='price_$/person', ascending=False).head(1)['neighbourhood_cleansed']"
   ]
  },
  {
   "cell_type": "markdown",
   "id": "ce5ef9ab",
   "metadata": {},
   "source": [
    "**Question:** What neighbourhood is it in?"
   ]
  },
  {
   "cell_type": "markdown",
   "id": "9f62ff6b",
   "metadata": {},
   "source": [
    "Look again in the [data dictionary](https://docs.google.com/spreadsheets/d/1iWCNJcSutYqpULSQHlNyGInUvHg2BoUGoNRIGa6Szc4/edit#gid=982310896) to understand what values in the `accommodates` column represent. \n",
    "\n",
    "**Question:** Do you think using `accomodates` is a good way to estimate the price per person for each listing? If not, why not?\n",
    "\n",
    "**Question:** Why might someone want to estimate the price per person for each listing?"
   ]
  },
  {
   "cell_type": "markdown",
   "id": "e6e51087",
   "metadata": {},
   "source": [
    "## Forecasting income\n",
    "You are asked to forecast how much money (in \\$'s) each listing is likely to receive over the next 30 days. To do this, you decide to use the `availability_30` column to calculate how many nights of the next available 30 nights are booked and then multiple this number by the `price_$` using the `*` (multiplication) operator. \n",
    "\n",
    "### Exercise-03: Forecast 30-day income\n",
    "Complete the code below to estimate the income for each listing over the next 30 days. Look at Exercise-02, to start."
   ]
  },
  {
   "cell_type": "code",
   "execution_count": 5,
   "id": "e26069f4",
   "metadata": {},
   "outputs": [
    {
     "data": {
      "text/html": [
       "<div>\n",
       "<style scoped>\n",
       "    .dataframe tbody tr th:only-of-type {\n",
       "        vertical-align: middle;\n",
       "    }\n",
       "\n",
       "    .dataframe tbody tr th {\n",
       "        vertical-align: top;\n",
       "    }\n",
       "\n",
       "    .dataframe thead th {\n",
       "        text-align: right;\n",
       "    }\n",
       "</style>\n",
       "<table border=\"1\" class=\"dataframe\">\n",
       "  <thead>\n",
       "    <tr style=\"text-align: right;\">\n",
       "      <th></th>\n",
       "      <th>price_$</th>\n",
       "      <th>availability_30</th>\n",
       "      <th>estimated_income_30</th>\n",
       "    </tr>\n",
       "  </thead>\n",
       "  <tbody>\n",
       "    <tr>\n",
       "      <th>0</th>\n",
       "      <td>128.0</td>\n",
       "      <td>22</td>\n",
       "      <td>1024.0</td>\n",
       "    </tr>\n",
       "    <tr>\n",
       "      <th>1</th>\n",
       "      <td>70.0</td>\n",
       "      <td>0</td>\n",
       "      <td>2100.0</td>\n",
       "    </tr>\n",
       "    <tr>\n",
       "      <th>2</th>\n",
       "      <td>39.0</td>\n",
       "      <td>30</td>\n",
       "      <td>0.0</td>\n",
       "    </tr>\n",
       "    <tr>\n",
       "      <th>3</th>\n",
       "      <td>85.0</td>\n",
       "      <td>28</td>\n",
       "      <td>170.0</td>\n",
       "    </tr>\n",
       "    <tr>\n",
       "      <th>4</th>\n",
       "      <td>40.0</td>\n",
       "      <td>16</td>\n",
       "      <td>560.0</td>\n",
       "    </tr>\n",
       "  </tbody>\n",
       "</table>\n",
       "</div>"
      ],
      "text/plain": [
       "   price_$  availability_30  estimated_income_30\n",
       "0    128.0               22               1024.0\n",
       "1     70.0                0               2100.0\n",
       "2     39.0               30                  0.0\n",
       "3     85.0               28                170.0\n",
       "4     40.0               16                560.0"
      ]
     },
     "execution_count": 5,
     "metadata": {},
     "output_type": "execute_result"
    }
   ],
   "source": [
    "# (SOLUTION)\n",
    "df_listings['estimated_income_30'] = df_listings['price_$'] * (30 - df_listings['availability_30'])\n",
    "df_listings[['price_$','availability_30', 'estimated_income_30']].head()"
   ]
  },
  {
   "cell_type": "markdown",
   "id": "e9f699c8",
   "metadata": {},
   "source": [
    "In the code block below, sort the values of `df_listings` by the values in `esimated_income_30` to identify the listing with highest forecasted income for the next 30 days."
   ]
  },
  {
   "cell_type": "code",
   "execution_count": 6,
   "id": "1081275a",
   "metadata": {},
   "outputs": [
    {
     "data": {
      "text/plain": [
       "17210    Haringey\n",
       "Name: neighbourhood_cleansed, dtype: object"
      ]
     },
     "execution_count": 6,
     "metadata": {},
     "output_type": "execute_result"
    }
   ],
   "source": [
    "# (SOLUTION)\n",
    "df_listings.sort_values(by='estimated_income_30', ascending=False).head(1)['neighbourhood_cleansed']"
   ]
  },
  {
   "cell_type": "markdown",
   "id": "3a9c8ff0",
   "metadata": {},
   "source": [
    "**Question:** What's the value of `neighbourhood_cleansed` for this listing?\n",
    "\n",
    "**Question:** Why might someone want to forecast the next 30 days income for each listing?"
   ]
  },
  {
   "cell_type": "code",
   "execution_count": 3,
   "id": "b30a0a07",
   "metadata": {},
   "outputs": [
    {
     "data": {
      "text/plain": [
       "0                       Lambeth\n",
       "1                   Westminster\n",
       "2                     Greenwich\n",
       "3                       Lambeth\n",
       "4                    Wandsworth\n",
       "                  ...          \n",
       "29995    Kensington and Chelsea\n",
       "29996                 Southwark\n",
       "29997                    Ealing\n",
       "29998    Kensington and Chelsea\n",
       "29999                   Hackney\n",
       "Name: neighbourhood_cleansed, Length: 30000, dtype: object"
      ]
     },
     "execution_count": 3,
     "metadata": {},
     "output_type": "execute_result"
    }
   ],
   "source": [
    "df_listings['neighbourhood_cleansed']"
   ]
  },
  {
   "cell_type": "markdown",
   "id": "5ecc2ced",
   "metadata": {},
   "source": [
    "## Further work\n",
    "If you want to explore the data further, please do, and think about what other metrics you might be able to estimate from the data and how they might be used."
   ]
  }
 ],
 "metadata": {
  "kernelspec": {
   "display_name": "Python 3 (ipykernel)",
   "language": "python",
   "name": "python3"
  },
  "language_info": {
   "codemirror_mode": {
    "name": "ipython",
    "version": 3
   },
   "file_extension": ".py",
   "mimetype": "text/x-python",
   "name": "python",
   "nbconvert_exporter": "python",
   "pygments_lexer": "ipython3",
   "version": "3.9.7"
  }
 },
 "nbformat": 4,
 "nbformat_minor": 5
}
